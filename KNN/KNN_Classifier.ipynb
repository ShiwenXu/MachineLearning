{
 "cells": [
  {
   "cell_type": "code",
   "execution_count": null,
   "id": "44f477eb",
   "metadata": {},
   "outputs": [],
   "source": [
    "\"\"\"\n",
    "@Topic: K-NN Classifier\n",
    "@Author: Shiwen Xu\n",
    "@Email: shxu4542@uni.sydney.edu.au\n",
    "@Date: 08/15/2022\n",
    "@Credit: COMP5318 Week2 Tutorial\n",
    "@TODO: \n",
    "    1. Build a K-Nearest Neighbor Classifier using Euclidean distance ✅\n",
    "    2. Add distance-weighted method ✅\n",
    "\"\"\""
   ]
  },
  {
   "cell_type": "code",
   "execution_count": 128,
   "id": "be713f51",
   "metadata": {},
   "outputs": [],
   "source": [
    "import numpy as np\n",
    "from sklearn.datasets import load_iris\n",
    "from sklearn.model_selection import train_test_split\n",
    "from sklearn.neighbors import KNeighborsClassifier \n",
    "from sklearn.metrics import accuracy_score\n",
    "import math"
   ]
  },
  {
   "cell_type": "code",
   "execution_count": 129,
   "id": "0c358ecd",
   "metadata": {},
   "outputs": [],
   "source": [
    "iris_dataset = load_iris()\n",
    "X_train, X_test, y_train, y_test = train_test_split(iris_dataset['data'], iris_dataset['target'], random_state=3)"
   ]
  },
  {
   "cell_type": "code",
   "execution_count": 130,
   "id": "0069cff5",
   "metadata": {},
   "outputs": [],
   "source": [
    "# proximity measurement\n",
    "def cal_distance(x1, x2):\n",
    "    '''\n",
    "    @description: calculate the Euclidean distance （L2 norm) between two points\n",
    "    @x1: point 1; array\n",
    "    @x2: point 2; array\n",
    "    '''\n",
    "    out_arr = np.subtract(x1, x2)\n",
    "    summ = sum([number ** 2 for number in out_arr])\n",
    "    return math.sqrt(summ)"
   ]
  },
  {
   "cell_type": "code",
   "execution_count": 203,
   "id": "fb8137f9",
   "metadata": {},
   "outputs": [],
   "source": [
    "def get_label(test_entry, X_train, y_train, k, weighted=False):\n",
    "    '''\n",
    "    @test_entry: one test record\n",
    "    @X_train: training set data\n",
    "    @y_train: training set target\n",
    "    @k: hyperparameter; # of nearest neighbor\n",
    "    @return: return the predicted label\n",
    "    '''\n",
    "    # store the index of the k nearest record\n",
    "    k_dict = {}\n",
    "    for i in range(len(X_train)):\n",
    "        train_entry = X_train[i]\n",
    "        dist = cal_distance(train_entry, test_entry)\n",
    "        if len(k_dict) < k:\n",
    "            k_dict[i] = dist\n",
    "        else:\n",
    "            key = max(k_dict, key = lambda k: k_dict[k])\n",
    "            if k_dict[key] > dist:\n",
    "                del k_dict[key]\n",
    "                k_dict[i] = dist\n",
    "    #print(\"-------------k_dict--------------\")\n",
    "    #print(k_dict)\n",
    "    if weighted:\n",
    "        w_dist = {}\n",
    "        for key in k_dict:\n",
    "            if y_train[key] not in w_dist:\n",
    "                w_dist[y_train[key]] = 1 / k_dict[key]\n",
    "            else:\n",
    "                w_dist[y_train[key]] += 1 / k_dict[key]\n",
    "#         print('--------------w_dist-------------')\n",
    "#         print(w_dist)\n",
    "#         print(max(w_dist, key = w_dist.get))\n",
    "        return max(w_dist, key = w_dist.get) \n",
    "    else:\n",
    "        type_list = [y_train[key] for key in k_dict]\n",
    "        pred_label = np.bincount(type_list).argmax()\n",
    "        return pred_label\n",
    "    "
   ]
  },
  {
   "cell_type": "code",
   "execution_count": 204,
   "id": "1526ff10",
   "metadata": {},
   "outputs": [],
   "source": [
    "def knn_predict(X_train, y_train, test_data, k, weighted=False):\n",
    "    '''\n",
    "    @description: predict on test data\n",
    "    @test_data:\n",
    "    @train_data: matrix combining training data & labels\n",
    "    @K: hyperparameter\n",
    "    '''\n",
    "    pred_labels = []\n",
    "    for i in range(len(test_data)):\n",
    "        test_entry = test_data[i]\n",
    "        # calculate the distance between test_entry and every record in the training set\n",
    "        if weighted:\n",
    "            pred_labels.append(get_label(test_entry, X_train, y_train, k, weighted=True))\n",
    "        else:\n",
    "            pred_labels.append(get_label(test_entry, X_train, y_train, k)) \n",
    "    return np.array(pred_labels)"
   ]
  },
  {
   "cell_type": "code",
   "execution_count": 205,
   "id": "8f583a5c",
   "metadata": {},
   "outputs": [
    {
     "name": "stdout",
     "output_type": "stream",
     "text": [
      "[0 0 0 0 0 2 1 0 2 1 1 0 1 1 2 0 1 2 2 0 2 2 2 1 0 2 2 1 1 1 0 0 2 1 0 0 2\n",
      " 0]\n",
      "[0 0 0 0 0 2 1 0 2 1 1 0 1 1 2 0 1 2 2 0 2 2 2 1 0 2 2 1 1 1 0 0 2 1 0 0 1\n",
      " 0]\n",
      "Accuracy on test set: 0.97\n"
     ]
    }
   ],
   "source": [
    "# sklearn output\n",
    "knn = KNeighborsClassifier(n_neighbors=11)\n",
    "knn.fit(X_train, y_train)\n",
    "print(knn.predict(X_test))\n",
    "print(y_test)\n",
    "print(\"Accuracy on test set: {:.2f}\".format(knn.score(X_test, y_test))) # score method calls self.predict(X) to get predict value of y"
   ]
  },
  {
   "cell_type": "code",
   "execution_count": 206,
   "id": "5ac6211d",
   "metadata": {},
   "outputs": [
    {
     "name": "stdout",
     "output_type": "stream",
     "text": [
      "[0 0 0 0 0 2 1 0 2 1 1 0 1 1 2 0 1 2 2 0 2 2 2 1 0 2 2 1 1 1 0 0 2 1 0 0 2\n",
      " 0]\n",
      "[0 0 0 0 0 2 1 0 2 1 1 0 1 1 2 0 1 2 2 0 2 2 2 1 0 2 2 1 1 1 0 0 2 1 0 0 1\n",
      " 0]\n",
      "Accuracy on test set: 0.97\n"
     ]
    }
   ],
   "source": [
    "# my own output\n",
    "y_predict = knn_predict(X_train, y_train, X_test, 11)\n",
    "print(y_predict)\n",
    "print(y_test)\n",
    "print(\"Accuracy on test set: {:.2f}\".format(accuracy_score(y_test, y_predict))) ## (# y_pred intersect y_test) / # y_test)"
   ]
  },
  {
   "cell_type": "code",
   "execution_count": 217,
   "id": "c68f6d49",
   "metadata": {},
   "outputs": [
    {
     "name": "stdout",
     "output_type": "stream",
     "text": [
      "[0 0 0 0 0 2 1 0 2 1 1 0 1 1 2 0 2 2 2 0 2 2 2 1 0 2 2 1 1 1 0 0 2 1 0 0 2\n",
      " 0]\n",
      "[0 0 0 0 0 2 1 0 2 1 1 0 1 1 2 0 1 2 2 0 2 2 2 1 0 2 2 1 1 1 0 0 2 1 0 0 1\n",
      " 0]\n",
      "Accuracy on test set: 0.95\n"
     ]
    }
   ],
   "source": [
    "# weighted-distance knn\n",
    "# weight points by the inverse of their distance\n",
    "y_predict = knn_predict(X_train, y_train, X_test, 3, weighted=True)\n",
    "print(y_predict)\n",
    "print(y_test)\n",
    "print(\"Accuracy on test set: {:.2f}\".format(accuracy_score(y_test, y_predict))) ## (# y_pred intersect y_test) / # y_test)"
   ]
  },
  {
   "cell_type": "code",
   "execution_count": 218,
   "id": "1dfc5462",
   "metadata": {},
   "outputs": [
    {
     "name": "stdout",
     "output_type": "stream",
     "text": [
      "[0 0 0 0 0 2 1 0 2 1 1 0 1 1 2 0 2 2 2 0 2 2 2 1 0 2 2 1 1 1 0 0 2 1 0 0 2\n",
      " 0]\n",
      "[0 0 0 0 0 2 1 0 2 1 1 0 1 1 2 0 1 2 2 0 2 2 2 1 0 2 2 1 1 1 0 0 2 1 0 0 1\n",
      " 0]\n",
      "Accuracy on test set: 0.95\n"
     ]
    }
   ],
   "source": [
    "# sklearn weighted distance knn\n",
    "# sklearn output\n",
    "knn = KNeighborsClassifier(n_neighbors=3, weights='distance')\n",
    "knn.fit(X_train, y_train)\n",
    "print(knn.predict(X_test))\n",
    "print(y_test)\n",
    "print(\"Accuracy on test set: {:.2f}\".format(knn.score(X_test, y_test))) # score method calls self.predict(X) to get predict value of y"
   ]
  }
 ],
 "metadata": {
  "kernelspec": {
   "display_name": "Python 3 (ipykernel)",
   "language": "python",
   "name": "python3"
  },
  "language_info": {
   "codemirror_mode": {
    "name": "ipython",
    "version": 3
   },
   "file_extension": ".py",
   "mimetype": "text/x-python",
   "name": "python",
   "nbconvert_exporter": "python",
   "pygments_lexer": "ipython3",
   "version": "3.9.12"
  }
 },
 "nbformat": 4,
 "nbformat_minor": 5
}
